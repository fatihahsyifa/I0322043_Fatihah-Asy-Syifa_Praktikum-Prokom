{
 "cells": [
  {
   "cell_type": "code",
   "execution_count": 1,
   "metadata": {},
   "outputs": [
    {
     "name": "stdout",
     "output_type": "stream",
     "text": [
      "Fatihah Asy Syifa\n",
      "I0322043\n",
      "B\n"
     ]
    }
   ],
   "source": [
    "print(input(\"Nama: \"))\n",
    "print(input(\"NIM: \"))\n",
    "print(input(\"Kelas: \"))"
   ]
  },
  {
   "attachments": {},
   "cell_type": "markdown",
   "metadata": {},
   "source": [
    "## 1."
   ]
  },
  {
   "attachments": {},
   "cell_type": "markdown",
   "metadata": {},
   "source": [
    "* **A** Hitunglah luas Prisma Segitiga dengan ketentuan sebagai berikut:\n",
    "    * Alas dan tutup prisma merupakan segitiga\n",
    "    * Terdapat 3 persegi panjang yang menyinggung alas dan tutup prisma\n",
    "    * Sisi persegi panjang yang menyinggung segitiga adalah sisi lebar\n",
    "```python\n",
    "    dictionary_figure = {\"Persegi\":{\"Sisi\":22},\n",
    "                        \"Persegi Panjang\":{\"Panjang\":10,\"Lebar\":5},\n",
    "                        \"Segitiga Sama Sisi\":{\"Sisi\":6,\"Tinggi\":3**(1/2) * 3},\n",
    "                        \"Lingkaran\":{\"Diameter\":7}}\n",
    "```\n",
    "* **B** Hitunglah luas Tabung dengan ketentuan sebagai berikut:\n",
    "    * Alas dan tutup tabung merupakan lingkaran\n",
    "    * Terdapat 1 persegi yang menyinggung alas dan tutup tabung\n",
    "    * Persegi yang ada mengelilingi lingkaran hingga sisi dari persegi saling bertemu\n",
    "\n",
    "> **note:** *Pada soal ini kalian hanya boleh menggunakan key-value pair dan index pada list. Tidak diperbolehkan menulis secara langsung dimensi dari figure*"
   ]
  },
  {
   "cell_type": "code",
   "execution_count": 4,
   "metadata": {},
   "outputs": [
    {
     "name": "stdout",
     "output_type": "stream",
     "text": [
      "luas prisma segitiga : 181.1769145362398\n",
      "luas tabung : 560.774288665778\n"
     ]
    }
   ],
   "source": [
    "#Menghitung Luas Prisma Segitiga\n",
    "dictionary_figure = {\"Persegi\":{\"Sisi\":22},\n",
    "                        \"Persegi Panjang\":{\"Panjang\":10,\"Lebar\":5},\n",
    "                        \"Segitiga Sama Sisi\":{\"Sisi\":6,\"Tinggi\":3**(1/2) * 3},\n",
    "                        \"Lingkaran\":{\"Diameter\":7}}\n",
    "\n",
    "luas_segitiga = dictionary_figure[\"Segitiga Sama Sisi\"][\"Sisi\"] * dictionary_figure[\"Segitiga Sama Sisi\"][\"Tinggi\"] /2\n",
    "luas_persegi_panjang = dictionary_figure[\"Persegi Panjang\"][\"Panjang\"] * dictionary_figure[\"Persegi Panjang\"][\"Lebar\"]\n",
    "luas_prisma_segitiga = 2 * luas_segitiga + 3 * luas_persegi_panjang\n",
    "print(\"luas prisma segitiga :\", luas_prisma_segitiga)\n",
    "\n",
    "#Menghitung Luas Tabung\n",
    "pi = 3.141592653589793\n",
    "\n",
    "luas_lingkaran = pi * dictionary_figure[\"Lingkaran\"][\"Diameter\"]/2 * dictionary_figure[\"Lingkaran\"][\"Diameter\"]/2\n",
    "luas_persegi = dictionary_figure[\"Persegi\"][\"Sisi\"] * pi * dictionary_figure[\"Lingkaran\"][\"Diameter\"]\n",
    "luas_tabung = luas_lingkaran * 2 + luas_persegi\n",
    "print(\"luas tabung :\", luas_tabung)"
   ]
  },
  {
   "attachments": {},
   "cell_type": "markdown",
   "metadata": {},
   "source": [
    "## 2."
   ]
  },
  {
   "attachments": {},
   "cell_type": "markdown",
   "metadata": {},
   "source": [
    "Diberikan List sebagai berikut\n",
    "```Python\n",
    "    data = [8, 8, 4, 6, 8, 9, 6, 5, 4, 7]\n",
    "```\n",
    "* Tambahkan 3 angka baru ke dalam list\n",
    "* Tampilkan output list dengan berurutan dari yang terkecil hingga yang terbesar\n",
    "* Tentukan mean, median, dan modus pada list baru"
   ]
  },
  {
   "cell_type": "code",
   "execution_count": 5,
   "metadata": {},
   "outputs": [
    {
     "name": "stdout",
     "output_type": "stream",
     "text": [
      "[8, 8, 4, 6, 8, 9, 6, 5, 4, 7, 1, 2, 3]\n"
     ]
    }
   ],
   "source": [
    "#Menambahkan angka baru\n",
    "data = [8, 8, 4, 6, 8, 9, 6, 5, 4, 7]\n",
    "angka_baru = [1, 2, 3]\n",
    "data.extend(angka_baru)\n",
    "print(data)"
   ]
  },
  {
   "cell_type": "code",
   "execution_count": 8,
   "metadata": {},
   "outputs": [
    {
     "name": "stdout",
     "output_type": "stream",
     "text": [
      "[1, 2, 3, 4, 4, 5, 6, 6, 7, 8, 8, 8, 9]\n"
     ]
    }
   ],
   "source": [
    "#Menyusun urutan dari terkecil ke terbesar\n",
    "data.sort()\n",
    "\n",
    "print(data)"
   ]
  },
  {
   "cell_type": "code",
   "execution_count": 9,
   "metadata": {},
   "outputs": [
    {
     "name": "stdout",
     "output_type": "stream",
     "text": [
      "Mean = 5.461538461538462\n",
      "Median = 6\n",
      "Modus = 8\n"
     ]
    }
   ],
   "source": [
    "#MEAN MEDIAN MODUS\n",
    "n = len(data)\n",
    "mean = sum(data) / n\n",
    "median = data[n//2 + 1]\n",
    "modus = max(set(data), key=data.count)\n",
    "\n",
    "print(\"Mean = \" + str(mean))\n",
    "print(\"Median = \" + str(median))\n",
    "print(\"Modus = \" + str(modus))\n"
   ]
  },
  {
   "attachments": {},
   "cell_type": "markdown",
   "metadata": {},
   "source": [
    "## 3. "
   ]
  },
  {
   "attachments": {},
   "cell_type": "markdown",
   "metadata": {},
   "source": [
    "Dalam pembuatan SIM ada beberapa syarat yang harus dipenuhi bagi para pembuat SIM yaitu:\n",
    "1. Pembuat SIM harus memiliki usia setidaknya 17 tahun\n",
    "2. Pembuat SIM lulus dalam tes kesehatan\n",
    "3. Pembuat SIM lulus dalam uji psikotes\n",
    "4. Pembuat SIM telah mengikuti ujian tertulis dengan nilai setidaknya 70\n",
    "5. Pembuat SIM lulus dalam simulasi berkendara\n",
    "6. Apabila pembuat SIM memiliki surat rekomendasi dari kursus berkendara maka pembuat SIM akan mendapatkan SIM (mengabaikan poin 1-5 apabila poin ke-6 terpenuhi)\n",
    "\n",
    "Buatlah input yang membuat setiap poin menjadi variabel. Output yang dihasilkan merupakan \"True\" apabila pembuat berhak mendapatkan SIM dan \"False\" apabila pembuat tidak berhak mendapatkan SIM.\n",
    "\n",
    "> **note:** *Tidak perlu menggunakan loops dalam membuat programnya*"
   ]
  },
  {
   "cell_type": "code",
   "execution_count": 11,
   "metadata": {},
   "outputs": [
    {
     "name": "stdout",
     "output_type": "stream",
     "text": [
      "True\n"
     ]
    }
   ],
   "source": [
    "umur = input(\"Umur: \")\n",
    "tes_kesehatan = input(\"Lulus Tes Kesehatan (y/n): \")\n",
    "psikotes = input(\"Lulus Uji Psikotes (y/n): \")\n",
    "nilai_ujian = input(\"Nilai Ujian Tertulis: \")\n",
    "lulus_simulasi = input(\"Lulus Simulasi Berkendara (y/n): \")\n",
    "surat_rekomendasi = input(\"Memiliki surat rekomendasi dari kursus berkendara (y/n): \")\n",
    "\n",
    "print((int(umur) >= 17 and tes_kesehatan == 'y' and psikotes == 'y' and int(nilai_ujian) >= 70 and lulus_simulasi == 'y') or surat_rekomendasi == 'y')"
   ]
  }
 ],
 "metadata": {
  "kernelspec": {
   "display_name": "Python 3",
   "language": "python",
   "name": "python3"
  },
  "language_info": {
   "codemirror_mode": {
    "name": "ipython",
    "version": 3
   },
   "file_extension": ".py",
   "mimetype": "text/x-python",
   "name": "python",
   "nbconvert_exporter": "python",
   "pygments_lexer": "ipython3",
   "version": "3.10.8"
  },
  "orig_nbformat": 4,
  "vscode": {
   "interpreter": {
    "hash": "369f2c481f4da34e4445cda3fffd2e751bd1c4d706f27375911949ba6bb62e1c"
   }
  }
 },
 "nbformat": 4,
 "nbformat_minor": 2
}
