{
 "cells": [
  {
   "cell_type": "code",
   "execution_count": 8,
   "metadata": {},
   "outputs": [
    {
     "data": {
      "text/plain": [
       "[[9, 5, 4, 3], [7, 5, 1, 2], [6, 8, 0, 3]]"
      ]
     },
     "execution_count": 8,
     "metadata": {},
     "output_type": "execute_result"
    }
   ],
   "source": [
    "#Buatlah sebuah fungsi untuk membuat matrix berdasarkan input dari user\n",
    "\n",
    "def create_matrix(baris,kolom):\n",
    "    matrix = []\n",
    "\n",
    "    #Tulis kode kamu disini\n",
    "    for a in range (baris):\n",
    "        matrix.append([])\n",
    "        for b in range(kolom):\n",
    "            komponen = int(input(f\"Masukkan komponen matriks [{a}][{b}]:\"))\n",
    "            matrix[a].append(komponen)\n",
    "    return matrix\n",
    "\n",
    "baris = int(input('Masukkan Jumlah Baris:\\t'))\n",
    "kolom = int(input('Masukkan Jumlah Kolom:\\t'))\n",
    "\n",
    "create_matrix(baris,kolom)"
   ]
  },
  {
   "cell_type": "code",
   "execution_count": 8,
   "metadata": {},
   "outputs": [
    {
     "data": {
      "text/plain": [
       "[[0, 0, 1], [3, 2, 0], [1, 0, 2]]"
      ]
     },
     "execution_count": 8,
     "metadata": {},
     "output_type": "execute_result"
    }
   ],
   "source": [
    "#Buatlah fungsi untuk melakukan pengurangan antar dua matrix berdasarkan input user\n",
    "\n",
    "def kurang_matrix(matrixA, matrixB):\n",
    "    kurang = []\n",
    "\n",
    "    #Tulis kode kamu disini\n",
    "    for a in range(len(matrixA)):\n",
    "        kurang.append([])\n",
    "\n",
    "        for b in range(len(matrixB[0])):\n",
    "            kurang[a].append(matrixA[a][b] - matrixB[a][b])\n",
    "    return kurang\n",
    "\n",
    "matrixA = [[1,2,3],[4,3,1],[4,1,2]]\n",
    "matrixB = [[1,2,2],[1,1,1],[3,1,0]]\n",
    "\n",
    "kurang_matrix(matrixA,matrixB)\n"
   ]
  },
  {
   "cell_type": "code",
   "execution_count": 16,
   "metadata": {},
   "outputs": [
    {
     "data": {
      "text/plain": [
       "[[1.0, 0.5], [2.0, 1.5]]"
      ]
     },
     "execution_count": 16,
     "metadata": {},
     "output_type": "execute_result"
    }
   ],
   "source": [
    "#Buatlah Fungsi untuk melakukan pembagian matrix dengan skalar berdasarkan input user\n",
    "\n",
    "def bagi_matrix(matrixA, skalar):\n",
    "    hasil = [[0,0],[0,0]]\n",
    "\n",
    "    #Tulis kode kamu disini\n",
    "    for a in range(len(matrixA)):\n",
    "        for b in range(len(matrixA[a])):\n",
    "            hasil[a][b] = (matrixA[a][b]/skalar)\n",
    "\n",
    "    return hasil\n",
    "\n",
    "matrixA = [[2,1],[4,3]]\n",
    "skalar = int(input('Matrix dibagi berapa?\\t'))\n",
    "\n",
    "\n",
    "bagi_matrix(matrixA, skalar)"
   ]
  }
 ],
 "metadata": {
  "kernelspec": {
   "display_name": "Python 3",
   "language": "python",
   "name": "python3"
  },
  "language_info": {
   "codemirror_mode": {
    "name": "ipython",
    "version": 3
   },
   "file_extension": ".py",
   "mimetype": "text/x-python",
   "name": "python",
   "nbconvert_exporter": "python",
   "pygments_lexer": "ipython3",
   "version": "3.10.8"
  },
  "orig_nbformat": 4
 },
 "nbformat": 4,
 "nbformat_minor": 2
}
